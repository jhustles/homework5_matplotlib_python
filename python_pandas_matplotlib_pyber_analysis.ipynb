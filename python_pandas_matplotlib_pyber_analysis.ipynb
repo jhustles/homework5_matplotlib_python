{
 "cells": [
  {
   "cell_type": "markdown",
   "metadata": {},
   "source": [
    "# Pyber, A Ride-Sharing Company,  Data Analysis & Visualization\n",
    "## With Python and Matplotlib"
   ]
  },
  {
   "cell_type": "code",
   "execution_count": 1,
   "metadata": {},
   "outputs": [],
   "source": [
    "# Import Dependencies\n",
    "\n",
    "%matplotlib notebook\n",
    "# Dependencies and Setup\n",
    "import matplotlib.pyplot as plt\n",
    "import pandas as pd\n",
    "import numpy as np"
   ]
  },
  {
   "cell_type": "code",
   "execution_count": 3,
   "metadata": {},
   "outputs": [],
   "source": [
    "# Load files and perform inital data analysis to become familiar with the datasets provided\n",
    "\n",
    "# File to Load (Remember to change these)\n",
    "city_data_to_load = \"./data/city_data.csv\"\n",
    "ride_data_to_load = \"./data/ride_data.csv\"\n",
    "\n",
    "# Read the City and Ride Data\n",
    "\n",
    "# potentially use city_data column for size bubble size reference\n",
    "city_data = pd.read_csv(city_data_to_load)\n",
    "ride_data = pd.read_csv(ride_data_to_load)\n",
    "\n",
    "# Combine the data into a single dataset\n",
    "cr_data = pd.merge(ride_data, city_data, on='city')\n",
    "\n",
    "# Display the data table for preview\n",
    "#cr_data\n"
   ]
  },
  {
   "cell_type": "code",
   "execution_count": 4,
   "metadata": {},
   "outputs": [
    {
     "data": {
      "text/html": [
       "<div>\n",
       "<style scoped>\n",
       "    .dataframe tbody tr th:only-of-type {\n",
       "        vertical-align: middle;\n",
       "    }\n",
       "\n",
       "    .dataframe tbody tr th {\n",
       "        vertical-align: top;\n",
       "    }\n",
       "\n",
       "    .dataframe thead th {\n",
       "        text-align: right;\n",
       "    }\n",
       "</style>\n",
       "<table border=\"1\" class=\"dataframe\">\n",
       "  <thead>\n",
       "    <tr style=\"text-align: right;\">\n",
       "      <th></th>\n",
       "      <th>city</th>\n",
       "      <th>driver_count</th>\n",
       "      <th>type</th>\n",
       "    </tr>\n",
       "  </thead>\n",
       "  <tbody>\n",
       "    <tr>\n",
       "      <th>0</th>\n",
       "      <td>Richardfort</td>\n",
       "      <td>38</td>\n",
       "      <td>Urban</td>\n",
       "    </tr>\n",
       "    <tr>\n",
       "      <th>1</th>\n",
       "      <td>Williamsstad</td>\n",
       "      <td>59</td>\n",
       "      <td>Urban</td>\n",
       "    </tr>\n",
       "    <tr>\n",
       "      <th>2</th>\n",
       "      <td>Port Angela</td>\n",
       "      <td>67</td>\n",
       "      <td>Urban</td>\n",
       "    </tr>\n",
       "    <tr>\n",
       "      <th>3</th>\n",
       "      <td>Rodneyfort</td>\n",
       "      <td>34</td>\n",
       "      <td>Urban</td>\n",
       "    </tr>\n",
       "    <tr>\n",
       "      <th>4</th>\n",
       "      <td>West Robert</td>\n",
       "      <td>39</td>\n",
       "      <td>Urban</td>\n",
       "    </tr>\n",
       "  </tbody>\n",
       "</table>\n",
       "</div>"
      ],
      "text/plain": [
       "           city  driver_count   type\n",
       "0   Richardfort            38  Urban\n",
       "1  Williamsstad            59  Urban\n",
       "2   Port Angela            67  Urban\n",
       "3    Rodneyfort            34  Urban\n",
       "4   West Robert            39  Urban"
      ]
     },
     "execution_count": 4,
     "metadata": {},
     "output_type": "execute_result"
    }
   ],
   "source": [
    "city_data.head()"
   ]
  },
  {
   "cell_type": "code",
   "execution_count": 6,
   "metadata": {},
   "outputs": [],
   "source": [
    "#checks:\n",
    "#type(city_data)\n",
    "#ride_data.head()\n",
    "\n",
    "# city_data_df = city_data.groupby(['type', 'city'])\n",
    "\n",
    "# calculate total fares for pie chart\n",
    "#total_fares = cr_data['fare'].sum()"
   ]
  },
  {
   "cell_type": "code",
   "execution_count": 9,
   "metadata": {},
   "outputs": [
    {
     "name": "stdout",
     "output_type": "stream",
     "text": [
      "<class 'pandas.core.frame.DataFrame'>\n",
      "Int64Index: 2375 entries, 0 to 2374\n",
      "Data columns (total 6 columns):\n",
      "city            2375 non-null object\n",
      "date            2375 non-null object\n",
      "fare            2375 non-null float64\n",
      "ride_id         2375 non-null int64\n",
      "driver_count    2375 non-null int64\n",
      "type            2375 non-null object\n",
      "dtypes: float64(1), int64(2), object(3)\n",
      "memory usage: 129.9+ KB\n"
     ]
    }
   ],
   "source": [
    "# shape is (2375, 6)\n",
    "cr_data.info()"
   ]
  },
  {
   "cell_type": "code",
   "execution_count": 14,
   "metadata": {},
   "outputs": [],
   "source": [
    "# Bubble Plot of Ride Sharing Data\n",
    "\n",
    "#slice by type, will have to make 3 df's for x, y, and s\n",
    "\n",
    "# URBAN CALCULATION!\n",
    "cr_urban_df = cr_data[cr_data['type']=='Urban']\n",
    "# 2 df's - one for TOTAL COUNT OF RIDE ID  and   AVG FARE; group by city\n",
    "\n",
    "#cr_urban_df.head()\n",
    "\n",
    "#x_axis - within all urban data, groupby city and take the ride_id column\n",
    "# the groupby puts it in alphabetical order\n",
    "cr_urb_ridect_df = cr_urban_df.groupby('city').count()\n",
    "cr_urb_ridect_df = cr_urb_ridect_df[['ride_id']]\n",
    "\n",
    "# Y_axis\n",
    "cr_urb_avgfare_df = cr_urban_df.groupby('city').mean()\n",
    "cr_urb_avgfare_df = cr_urb_avgfare_df[['fare']]\n",
    "\n",
    "# bubble size - referred back to the city data, pulled all urban data out and sorted it\n",
    "urban_cities_df = city_data[city_data['type'] == 'Urban']\n",
    "urban_cities_df = urban_cities_df.sort_values(by=[\"city\"], ascending=True)\n",
    "urban_cities_df = urban_cities_df[['driver_count']]\n",
    "\n",
    "\n",
    "# cr_typenfare_df = cr_data.sort_values(by=[\"type\", \"fare\"], ascending=False)\n",
    "# cr_typenfare_df\n",
    "\n",
    "####################################################################################\n",
    "\n",
    "# # # Pie chart calculations # # # / dvided by all city types\n",
    "\n",
    "#create data frame (sum the fares, total counts for last 2 pies) put into 1 data frame,\n",
    "\n",
    "# use loops to make pie charts, put the percentages in pie chart, the piechart will automatically do itJ\n",
    "\n",
    "# Calculate Total Fares Sums by City Type = / total count of all types\n",
    "# target answers = Urb = 62.7%, sub = 30.5%, and rural = 6.8%\n",
    "    # fares use sum\n",
    "urb_fares = cr_urban_df['fare'].sum()\n",
    "\n",
    "\n",
    "# Calculate Ride Percents = ride count by city type / total count of all rides\n",
    "# target answers = Urb = 68.4%, sub = 26.3%, and rural = 5.3%\n",
    "urb_totalrides = cr_urban_df['ride_id'].count\n",
    "\n",
    "\n",
    "# Calculate Driver Percents = driver count by total count of all drivers\n",
    "# target answers = Urb = 80.9%, sub = 16.5%, and rural = 2.6%\n",
    "\n",
    "urb_driverpercent = urban_cities_df[['driver_count']].sum()\n",
    "\n"
   ]
  },
  {
   "cell_type": "code",
   "execution_count": 15,
   "metadata": {},
   "outputs": [
    {
     "data": {
      "text/plain": [
       "39854.38"
      ]
     },
     "execution_count": 15,
     "metadata": {},
     "output_type": "execute_result"
    }
   ],
   "source": [
    "urb_fares"
   ]
  },
  {
   "cell_type": "code",
   "execution_count": 16,
   "metadata": {},
   "outputs": [
    {
     "data": {
      "text/plain": [
       "2973"
      ]
     },
     "execution_count": 16,
     "metadata": {},
     "output_type": "execute_result"
    }
   ],
   "source": [
    "# Calculate total driver count for 3rd pie chart for reconciliation purposes\n",
    "city_data['driver_count'].sum()\n",
    "\n",
    "# check to before making pie chart\n",
    "#print(2405/2973)"
   ]
  },
  {
   "cell_type": "code",
   "execution_count": 21,
   "metadata": {},
   "outputs": [],
   "source": [
    "# SUBURBAN\n",
    "cr_suburban_df = cr_data[cr_data['type']=='Suburban']\n",
    "#cr_suburban_df\n",
    "\n",
    "#x_axis - within all suburban data, groupby city and take the ride_id column\n",
    "# the groupby puts it in alphabetical order\n",
    "cr_suburb_ridect_df = cr_suburban_df.groupby('city').count()\n",
    "cr_suburb_ridect_df = cr_suburb_ridect_df[['ride_id']]\n",
    "\n",
    "# Y_axis\n",
    "cr_suburb_avgfare_df = cr_suburban_df.groupby('city').mean()\n",
    "cr_suburb_avgfare_df = cr_suburb_avgfare_df[['fare']]\n",
    "\n",
    "# bubble size - referred back to the city data, pulled all suburban data out and sorted it\n",
    "suburban_cities_df = city_data[city_data['type'] == 'Suburban']\n",
    "suburban_cities_df = suburban_cities_df.sort_values(by=[\"city\"], ascending=True)\n",
    "suburban_cities_df = suburban_cities_df[['driver_count']]\n",
    "\n",
    "# Calculate Total Fares Sums by City Type = / total count of all types\n",
    "# target answers = Urb = 62.7%, sub = 30.5%, and rural = 6.8%\n",
    "\n",
    "suburb_fares = cr_suburban_df['fare'].sum()\n",
    "suburb_fares\n",
    "\n",
    "\n",
    "# Calculate Ride Percents = ride count by city type / total count of all rides\n",
    "# target answers = Urb = 68.4%, sub = 26.3%, and rural = 5.3%\n",
    "\n",
    "suburb_totalrides = cr_suburban_df['ride_id'].count\n",
    "\n",
    "# Calculate Driver Percents = driver count by total count of all drivers\n",
    "# target answers = Urb = 80.9%, sub = 16.5%, and rural = 2.6%\n",
    "suburb_driverpercent = suburban_cities_df[['driver_count']].sum()\n"
   ]
  },
  {
   "cell_type": "code",
   "execution_count": 24,
   "metadata": {},
   "outputs": [],
   "source": [
    "#RURAL\n",
    "\n",
    "# pull all rural data out into a seperate df\n",
    "cr_rural_df = cr_data[cr_data['type']=='Rural']\n",
    "#cr_rural_df\n",
    "\n",
    "#x_axis - within all rural data, groupby city and take the ride_id column\n",
    "# the groupby puts it in alphabetical order\n",
    "cr_rural_ridect_df = cr_rural_df.groupby('city').count()\n",
    "cr_rural_ridect_df = cr_rural_ridect_df[['ride_id']]\n",
    "\n",
    "# Y_axis\n",
    "cr_rural_avgfare_df = cr_rural_df.groupby('city').mean()\n",
    "cr_rural_avgfare_df = cr_rural_avgfare_df[['fare']]\n",
    "\n",
    "# bubble size - referred back to the rural data, pulled all urban data out and sorted it\n",
    "rural_cities_df = city_data[city_data['type'] == 'Rural']\n",
    "rural_cities_df = rural_cities_df.sort_values(by=[\"city\"], ascending=True)\n",
    "rural_cities_df = rural_cities_df[['driver_count']]\n",
    "\n",
    "\n",
    "# Calculate Total Fares Sums by City Type = / total count of all types\n",
    "# target answers = Urb = 62.7%, sub = 30.5%, and rural = 6.8%\n",
    "rural_fares = cr_rural_df['fare'].sum()\n",
    "rural_fares\n",
    "\n",
    "# Calculate Ride Percents = ride count by city type / total count of all rides\n",
    "# target answers = Urb = 68.4%, sub = 26.3%, and rural = 5.3%\n",
    "\n",
    "rural_totalrides = cr_rural_df['ride_id'].count\n",
    "\n",
    "# Calculate Driver Percents = driver count by total count of all drivers\n",
    "# target answers = Urb = 80.9%, sub = 16.5%, and rural = 2.6%\n",
    "rural_driverpercent = rural_cities_df[['driver_count']].sum()"
   ]
  },
  {
   "cell_type": "code",
   "execution_count": 25,
   "metadata": {},
   "outputs": [
    {
     "data": {
      "text/plain": [
       "count    125.000000\n",
       "mean      34.623440\n",
       "std       14.558046\n",
       "min       10.110000\n",
       "25%       19.900000\n",
       "50%       37.050000\n",
       "75%       47.070000\n",
       "max       58.550000\n",
       "Name: fare, dtype: float64"
      ]
     },
     "execution_count": 25,
     "metadata": {},
     "output_type": "execute_result"
    }
   ],
   "source": [
    "# Pulling data for data analysis piece.\n",
    "cr_rural_df['fare'].describe()"
   ]
  },
  {
   "cell_type": "code",
   "execution_count": 28,
   "metadata": {},
   "outputs": [],
   "source": [
    "#cr_rural_ridect_df.head()"
   ]
  },
  {
   "cell_type": "code",
   "execution_count": 29,
   "metadata": {},
   "outputs": [],
   "source": [
    "#cr_rural_avgfare_df.head()"
   ]
  },
  {
   "cell_type": "code",
   "execution_count": null,
   "metadata": {},
   "outputs": [],
   "source": []
  },
  {
   "cell_type": "code",
   "execution_count": null,
   "metadata": {},
   "outputs": [],
   "source": []
  },
  {
   "cell_type": "code",
   "execution_count": null,
   "metadata": {},
   "outputs": [],
   "source": []
  },
  {
   "cell_type": "code",
   "execution_count": null,
   "metadata": {},
   "outputs": [],
   "source": []
  },
  {
   "cell_type": "code",
   "execution_count": null,
   "metadata": {},
   "outputs": [],
   "source": []
  }
 ],
 "metadata": {
  "kernelspec": {
   "display_name": "Python 3",
   "language": "python",
   "name": "python3"
  },
  "language_info": {
   "codemirror_mode": {
    "name": "ipython",
    "version": 3
   },
   "file_extension": ".py",
   "mimetype": "text/x-python",
   "name": "python",
   "nbconvert_exporter": "python",
   "pygments_lexer": "ipython3",
   "version": "3.7.1"
  }
 },
 "nbformat": 4,
 "nbformat_minor": 2
}
